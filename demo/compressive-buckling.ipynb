{
 "cells": [
  {
   "cell_type": "markdown",
   "metadata": {},
   "source": [
    "# 1D Compressive Buckling Problem"
   ]
  },
  {
   "cell_type": "markdown",
   "metadata": {},
   "source": [
    "## Problem Setup\n",
    "Let's solve the compressive buckling problem on the 1D beam. \n",
    "\n",
    "Define the beam as $\\Omega=[0, 5]$. We want to solve the deformation $y: \\Omega \\to \\mathbb{R}^3$. Define the force $f = (0, -10^{-2})$ downward. Define the Dirichlet conditions $g = (x_1, 0)$ and $\\Phi = ((0, 0))$ on $\\partial \\Omega_D = \\{0, 1\\}$. We want to minimize the energy functional as the following:\n",
    "\n",
    "\n"
   ]
  }
 ],
 "metadata": {
  "language_info": {
   "name": "python"
  }
 },
 "nbformat": 4,
 "nbformat_minor": 2
}
