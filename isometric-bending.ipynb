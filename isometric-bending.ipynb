{
 "cells": [
  {
   "cell_type": "code",
   "execution_count": 1,
   "metadata": {},
   "outputs": [
    {
     "name": "stderr",
     "output_type": "stream",
     "text": [
      "firedrake:WARNING OMP_NUM_THREADS is not set or is set to a value greater than 1, we suggest setting OMP_NUM_THREADS=1 to improve performance\n"
     ]
    }
   ],
   "source": [
    "from src.problem import IsometricBendingProblem\n",
    "from src.utils import plot_deformation, compute_isometry_defect, compute_surface_area\n",
    "from firedrake import *"
   ]
  },
  {
   "cell_type": "code",
   "execution_count": 2,
   "metadata": {},
   "outputs": [],
   "source": [
    "mesh = SquareMesh(8, 8, 1)\n",
    "x = SpatialCoordinate(mesh)\n",
    "cfg = {'mesh': mesh,\n",
    "       'function_space': {'family': 'CG',\n",
    "                          'degree': 2},\n",
    "       'f': as_vector([0, 0, 0]),\n",
    "       'g': as_vector([x[0], x[1], 0]),\n",
    "       'phi': as_matrix([[1, 0], [0, 1], [0, 0]]),\n",
    "       'sub_domain': (1, 2, 3, 4),}"
   ]
  },
  {
   "cell_type": "code",
   "execution_count": 3,
   "metadata": {},
   "outputs": [],
   "source": [
    "problem = IsometricBendingProblem(cfg)"
   ]
  },
  {
   "cell_type": "code",
   "execution_count": 4,
   "metadata": {},
   "outputs": [
    {
     "name": "stdout",
     "output_type": "stream",
     "text": [
      "============================================================\n",
      "██╗███████╗ ██████╗ ███╗   ███╗███████╗████████╗██████╗ ██╗ ██████╗\n",
      "██║██╔════╝██╔═══██╗████╗ ████║██╔════╝╚══██╔══╝██╔══██╗██║██╔════╝\n",
      "██║███████╗██║   ██║██╔████╔██║█████╗     ██║   ██████╔╝██║██║ \n",
      "██║╚════██║██║   ██║██║╚██╔╝██║██╔══╝     ██║   ██╔══██╗██║██║ \n",
      "██║███████║╚██████╔╝██║ ╚═╝ ██║███████╗   ██║   ██║  ██║██║╚██████╗\n",
      "╚═╝╚══════╝ ╚═════╝ ╚═╝     ╚═╝╚══════╝   ╚═╝   ╚═╝  ╚═╝╚═╝ ╚═════╝\n",
      "============================================================\n",
      "Continuation:                  False\n",
      "Family:                        CG_2\n",
      "Nitsche's Approach:            False\n",
      "isRegularised:                 False\n",
      "MeshSize:                      0.176777\n",
      "============================================================\n"
     ]
    }
   ],
   "source": [
    "z = problem.solve()\n"
   ]
  },
  {
   "cell_type": "code",
   "execution_count": 5,
   "metadata": {},
   "outputs": [
    {
     "name": "stdout",
     "output_type": "stream",
     "text": [
      "Surface Area: 1.0000000000000004\n",
      "Isometry Defect: 7.049533374666678e-15\n"
     ]
    }
   ],
   "source": [
    "y = z.sub(0)\n",
    "print(f'Surface Area: {compute_surface_area(y)}')\n",
    "print(f'Isometry Defect: {compute_isometry_defect(y)}')"
   ]
  }
 ],
 "metadata": {
  "kernelspec": {
   "display_name": "firedrake",
   "language": "python",
   "name": "python3"
  },
  "language_info": {
   "codemirror_mode": {
    "name": "ipython",
    "version": 3
   },
   "file_extension": ".py",
   "mimetype": "text/x-python",
   "name": "python",
   "nbconvert_exporter": "python",
   "pygments_lexer": "ipython3",
   "version": "3.12.6"
  }
 },
 "nbformat": 4,
 "nbformat_minor": 2
}
